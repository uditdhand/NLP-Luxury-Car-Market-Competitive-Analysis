{
  "nbformat": 4,
  "nbformat_minor": 0,
  "metadata": {
    "colab": {
      "provenance": [],
      "gpuType": "T4"
    },
    "kernelspec": {
      "name": "python3",
      "display_name": "Python 3"
    },
    "language_info": {
      "name": "python"
    },
    "accelerator": "GPU"
  },
  "cells": [
    {
      "cell_type": "code",
      "execution_count": 7,
      "metadata": {
        "colab": {
          "base_uri": "https://localhost:8080/"
        },
        "id": "Lyq-J8mfyWzM",
        "outputId": "49f10f24-a698-4035-b1dc-4cc28c69b43b"
      },
      "outputs": [
        {
          "output_type": "stream",
          "name": "stdout",
          "text": [
            "Requirement already satisfied: selenium in /usr/local/lib/python3.10/dist-packages (4.12.0)\n",
            "Requirement already satisfied: urllib3[socks]<3,>=1.26 in /usr/local/lib/python3.10/dist-packages (from selenium) (2.0.4)\n",
            "Requirement already satisfied: trio~=0.17 in /usr/local/lib/python3.10/dist-packages (from selenium) (0.22.2)\n",
            "Requirement already satisfied: trio-websocket~=0.9 in /usr/local/lib/python3.10/dist-packages (from selenium) (0.10.3)\n",
            "Requirement already satisfied: certifi>=2021.10.8 in /usr/local/lib/python3.10/dist-packages (from selenium) (2023.7.22)\n",
            "Requirement already satisfied: attrs>=20.1.0 in /usr/local/lib/python3.10/dist-packages (from trio~=0.17->selenium) (23.1.0)\n",
            "Requirement already satisfied: sortedcontainers in /usr/local/lib/python3.10/dist-packages (from trio~=0.17->selenium) (2.4.0)\n",
            "Requirement already satisfied: idna in /usr/local/lib/python3.10/dist-packages (from trio~=0.17->selenium) (3.4)\n",
            "Requirement already satisfied: outcome in /usr/local/lib/python3.10/dist-packages (from trio~=0.17->selenium) (1.2.0)\n",
            "Requirement already satisfied: sniffio in /usr/local/lib/python3.10/dist-packages (from trio~=0.17->selenium) (1.3.0)\n",
            "Requirement already satisfied: exceptiongroup>=1.0.0rc9 in /usr/local/lib/python3.10/dist-packages (from trio~=0.17->selenium) (1.1.3)\n",
            "Requirement already satisfied: wsproto>=0.14 in /usr/local/lib/python3.10/dist-packages (from trio-websocket~=0.9->selenium) (1.2.0)\n",
            "Requirement already satisfied: pysocks!=1.5.7,<2.0,>=1.5.6 in /usr/local/lib/python3.10/dist-packages (from urllib3[socks]<3,>=1.26->selenium) (1.7.1)\n",
            "Requirement already satisfied: h11<1,>=0.9.0 in /usr/local/lib/python3.10/dist-packages (from wsproto>=0.14->trio-websocket~=0.9->selenium) (0.14.0)\n",
            "/bin/bash: line 1: apt-get-q: command not found\n",
            "\u001b[1;31mE: \u001b[0mInvalid operation install-yq\u001b[0m\n",
            "cp: cannot stat '/usr/lib/chromium-browser/chromedriver': No such file or directory\n"
          ]
        }
      ],
      "source": [
        "!pip install selenium\n",
        "!apt-get-q update #Used to handle installation and removal of softwares and libraries\n",
        "!apt install-yq chromium-chromedriver #ChromeDriver is a separate executable that Selenium WebDriver uses to control Chrome.\n",
        "!cp /usr/lib/chromium-browser/chromedriver /usr/bin #copying the chromedriver executable to the generic system path directory for easy access"
      ]
    },
    {
      "cell_type": "code",
      "source": [
        "import sys\n",
        "sys.path.insert(0,'usr\\lib\\chromium-browser\\chromedriver') #adding the chromedriver directory to the list of directories to search for python modules and packages\n",
        "\n",
        "from selenium import webdriver\n",
        "from selenium.webdriver.common.by import By"
      ],
      "metadata": {
        "id": "mEIq5MVHzWCS"
      },
      "execution_count": 8,
      "outputs": []
    },
    {
      "cell_type": "code",
      "source": [
        "chrome_options = webdriver.ChromeOptions()\n",
        "chrome_options.add_argument(\"--headless\") #running chrome browser in a headless mode without displaying graphical user interface since we want to perform automated web-scraping\n",
        "chrome_options.add_argument(\"--no-sandbox\")#disabling the sandbox security feature of chrome browser\n",
        "chrome_options.add_argument(\"--disable-dev-shm-usage\") #disabling /dev/shm temperory directory since shared memory is not necessary while running in headless mode."
      ],
      "metadata": {
        "id": "Hm-ryuRFzYzG"
      },
      "execution_count": 9,
      "outputs": []
    },
    {
      "cell_type": "code",
      "source": [
        "import pandas as pd\n",
        "from selenium.webdriver.remote.webdriver import WebDriver\n",
        "#extracting information from multiple webpages\n",
        "driver=webdriver.Chrome(options=chrome_options)\n",
        "\n",
        "url = 'https://forums.edmunds.com/discussion/2864/general/x/entry-level-luxury-performance-sedans'\n",
        "\n",
        "user_id=[]\n",
        "date=[]\n",
        "comment=[]\n",
        "\n",
        "for i in range(1,121):\n",
        "  url_next=url+\"/p\"+str(i)\n",
        "  driver.get(url_next)\n",
        "  elements=driver.find_elements(by=By.CLASS_NAME,value=\"Comment\")\n",
        "  for element in elements:\n",
        "    temp_id=(element.find_element(by=By.CLASS_NAME,value=\"Author\")).text\n",
        "    temp_date=(element.find_element(by=By.TAG_NAME,value=\"time\")).text\n",
        "    temp_comment=(element.find_element(by=By.CLASS_NAME,value=\"Item-Body\")).text\n",
        "\n",
        "    if temp_comment.strip(): #checks and skips including empty comments to the csv file\n",
        "      user_id.append(temp_id)\n",
        "      date.append(temp_date)\n",
        "      comment.append(temp_comment)\n",
        "\n",
        "df2 = pd.DataFrame({\"User_ID\":user_id,\n",
        "                    \"Date\":date,\n",
        "                    \"Comment\":comment\n",
        "                    })\n",
        "\n"
      ],
      "metadata": {
        "id": "3tHg_mCHzlCG"
      },
      "execution_count": 10,
      "outputs": []
    },
    {
      "cell_type": "code",
      "source": [
        "df2.to_csv(\"oldposts_data.csv\")\n",
        "!ls\n",
        "from google.colab import files\n",
        "files.download(\"oldposts_data.csv\")"
      ],
      "metadata": {
        "id": "UHlCcPnnz19l",
        "colab": {
          "base_uri": "https://localhost:8080/",
          "height": 34
        },
        "outputId": "9e37687c-2589-4d1d-b62b-1c952ef08d90"
      },
      "execution_count": 11,
      "outputs": [
        {
          "output_type": "stream",
          "name": "stdout",
          "text": [
            "oldposts_data.csv  sample_data\n"
          ]
        },
        {
          "output_type": "display_data",
          "data": {
            "text/plain": [
              "<IPython.core.display.Javascript object>"
            ],
            "application/javascript": [
              "\n",
              "    async function download(id, filename, size) {\n",
              "      if (!google.colab.kernel.accessAllowed) {\n",
              "        return;\n",
              "      }\n",
              "      const div = document.createElement('div');\n",
              "      const label = document.createElement('label');\n",
              "      label.textContent = `Downloading \"${filename}\": `;\n",
              "      div.appendChild(label);\n",
              "      const progress = document.createElement('progress');\n",
              "      progress.max = size;\n",
              "      div.appendChild(progress);\n",
              "      document.body.appendChild(div);\n",
              "\n",
              "      const buffers = [];\n",
              "      let downloaded = 0;\n",
              "\n",
              "      const channel = await google.colab.kernel.comms.open(id);\n",
              "      // Send a message to notify the kernel that we're ready.\n",
              "      channel.send({})\n",
              "\n",
              "      for await (const message of channel.messages) {\n",
              "        // Send a message to notify the kernel that we're ready.\n",
              "        channel.send({})\n",
              "        if (message.buffers) {\n",
              "          for (const buffer of message.buffers) {\n",
              "            buffers.push(buffer);\n",
              "            downloaded += buffer.byteLength;\n",
              "            progress.value = downloaded;\n",
              "          }\n",
              "        }\n",
              "      }\n",
              "      const blob = new Blob(buffers, {type: 'application/binary'});\n",
              "      const a = document.createElement('a');\n",
              "      a.href = window.URL.createObjectURL(blob);\n",
              "      a.download = filename;\n",
              "      div.appendChild(a);\n",
              "      a.click();\n",
              "      div.remove();\n",
              "    }\n",
              "  "
            ]
          },
          "metadata": {}
        },
        {
          "output_type": "display_data",
          "data": {
            "text/plain": [
              "<IPython.core.display.Javascript object>"
            ],
            "application/javascript": [
              "download(\"download_2c60b537-7cf2-4175-b320-a48af65b4997\", \"oldposts_data.csv\", 3276080)"
            ]
          },
          "metadata": {}
        }
      ]
    }
  ]
}