{
  "cells": [
    {
      "cell_type": "code",
      "execution_count": 5,
      "metadata": {
        "colab": {
          "base_uri": "https://localhost:8080/"
        },
        "id": "BQF3mnl53DWY",
        "outputId": "699af22c-854a-4cfa-f709-1571cba3ed0e"
      },
      "outputs": [
        {
          "name": "stdout",
          "output_type": "stream",
          "text": [
            "Requirement already satisfied: selenium in /usr/local/lib/python3.10/dist-packages (4.12.0)\n",
            "Requirement already satisfied: urllib3[socks]<3,>=1.26 in /usr/local/lib/python3.10/dist-packages (from selenium) (2.0.4)\n",
            "Requirement already satisfied: trio~=0.17 in /usr/local/lib/python3.10/dist-packages (from selenium) (0.22.2)\n",
            "Requirement already satisfied: trio-websocket~=0.9 in /usr/local/lib/python3.10/dist-packages (from selenium) (0.10.3)\n",
            "Requirement already satisfied: certifi>=2021.10.8 in /usr/local/lib/python3.10/dist-packages (from selenium) (2023.7.22)\n",
            "Requirement already satisfied: attrs>=20.1.0 in /usr/local/lib/python3.10/dist-packages (from trio~=0.17->selenium) (23.1.0)\n",
            "Requirement already satisfied: sortedcontainers in /usr/local/lib/python3.10/dist-packages (from trio~=0.17->selenium) (2.4.0)\n",
            "Requirement already satisfied: idna in /usr/local/lib/python3.10/dist-packages (from trio~=0.17->selenium) (3.4)\n",
            "Requirement already satisfied: outcome in /usr/local/lib/python3.10/dist-packages (from trio~=0.17->selenium) (1.2.0)\n",
            "Requirement already satisfied: sniffio in /usr/local/lib/python3.10/dist-packages (from trio~=0.17->selenium) (1.3.0)\n",
            "Requirement already satisfied: exceptiongroup>=1.0.0rc9 in /usr/local/lib/python3.10/dist-packages (from trio~=0.17->selenium) (1.1.3)\n",
            "Requirement already satisfied: wsproto>=0.14 in /usr/local/lib/python3.10/dist-packages (from trio-websocket~=0.9->selenium) (1.2.0)\n",
            "Requirement already satisfied: pysocks!=1.5.7,<2.0,>=1.5.6 in /usr/local/lib/python3.10/dist-packages (from urllib3[socks]<3,>=1.26->selenium) (1.7.1)\n",
            "Requirement already satisfied: h11<1,>=0.9.0 in /usr/local/lib/python3.10/dist-packages (from wsproto>=0.14->trio-websocket~=0.9->selenium) (0.14.0)\n",
            "/bin/bash: line 1: apt-get-q: command not found\n",
            "\u001b[1;31mE: \u001b[0mInvalid operation install-yq\u001b[0m\n",
            "cp: cannot stat '/usr/lib/chromium-browser/chromedriver': No such file or directory\n"
          ]
        }
      ],
      "source": [
        "!pip install selenium\n",
        "!apt-get-q update #Used to handle installation and removal of softwares and libraries\n",
        "!apt install-yq chromium-chromedriver #ChromeDriver is a separate executable that Selenium WebDriver uses to control Chrome.\n",
        "!cp /usr/lib/chromium-browser/chromedriver /usr/bin #copying the chromedriver executable to the generic system path directory for easy access"
      ]
    },
    {
      "cell_type": "code",
      "execution_count": 6,
      "metadata": {
        "id": "277uKZHHy3yL"
      },
      "outputs": [],
      "source": [
        "import sys\n",
        "sys.path.insert(0,'usr\\lib\\chromium-browser\\chromedriver') #adding the chromedriver directory to the list of directories to search for python modules and packages\n",
        "\n",
        "from selenium import webdriver\n",
        "from selenium.webdriver.common.by import By\n"
      ]
    },
    {
      "cell_type": "code",
      "execution_count": 7,
      "metadata": {
        "id": "VP5j9emZzB_9"
      },
      "outputs": [],
      "source": [
        "chrome_options = webdriver.ChromeOptions()\n",
        "chrome_options.add_argument(\"--headless\") #running chrome browser in a headless mode without displaying graphical user interface since we want to perform automated web-scraping\n",
        "chrome_options.add_argument(\"--no-sandbox\")#disabling the sandbox security feature of chrome browser\n",
        "chrome_options.add_argument(\"--disable-dev-shm-usage\") #disabling /dev/shm temperory directory since shared memory is not necessary while running in headless mode."
      ]
    },
    {
      "cell_type": "code",
      "execution_count": 9,
      "metadata": {
        "id": "8x0HvVAI6VPS"
      },
      "outputs": [],
      "source": [
        "wd=webdriver.Chrome(options=chrome_options)\n",
        "wd.get('https://forums.edmunds.com/discussion/2864/general/x/entry-level-luxury-performance-sedans')"
      ]
    },
    {
      "cell_type": "code",
      "execution_count": 10,
      "metadata": {
        "colab": {
          "base_uri": "https://localhost:8080/"
        },
        "id": "b1LXFeJJ4hm-",
        "outputId": "1dcdab75-fecf-486a-b430-3a231a7a06ec"
      },
      "outputs": [
        {
          "name": "stdout",
          "output_type": "stream",
          "text": [
            "merc1\n",
            "March 2002\n",
            "I personally think that with a few tweaks the C320 could also sit at the top of this group. It's still more of a entry-level luxury sedan than Mercedes would lead you to believe. The C320 \"Sport\" needs to have it's suspension retuned to accept 17 inch tires without a harsh ride. MB also needs to stop forcing metal trim and black leather on everyone that wants the sport package. The C240's 6-speed wouldn't hurt either if offered on the C320, though it needs to be \"fixed\" first.\n",
            "\n",
            "That said, my favorite of the group is (gasp!) the new A4 3.0. The A4 easily has the best interior of any sub-40K car, combine that with stunning looks and a body that is as rigid as any ever made and you have my personal favorite. The single thing I don't like about the A4 is the grey trim around the bottom of the car. This trim doesn't match any of the body colors, as it should be body color anyway. This is an excellent car and in my opinion the best there is under 40K. The upcoming A4 Convertible, Coupe and S4 WILL all be winners.\n",
            "\n",
            "The BMW 330i is now an old favorite, but I'm (of all people) starting to tire of the 3-Series just a bit, save the M3 variants. I was kind of dissappointed by the 2002 facelift, they could have done a little more in the way of styling. I hope they do a little more for 2003 with the coupe models.\n",
            "\n",
            "The Acura TL-S is easily my favorite fwd car in this class. Wonderful engine (you actually can hear it) and decent handling for a front driver. Nice price, seats and what not, not hard to see why the TL is so popular. This car's main faults are styling and obvious cost-cutting in the interior, stereo, fake wood etc. Otherwise a standout.\n",
            "\n",
            "Lexus ES300. Nice, but not my type of car at all. This is one for the Buick set. The IS300 is half baked, but has a wonderful chassis. Styling is also in question here, it simply doesn't look like a 35K car (grown). The interior is gawd-awful. Bet on the next IS300 being done right from the start. In their defense Toyota didn't initially intend for this car to be sold in the U.S. so it was a rush job.\n",
            "\n",
            "The CTS holds the greatest unrealized potential here. I've seen several now, and each time I see one they look better and better. Again like the C320, IS300 the car has interior issues. The dash feels like it was made by Rubbermaid. If you're going to be stingy with wood trim, why bother? Half of the steering wheel in wood, and very little anywhere else in the car??? The seats are very good though, as is the handling. A work in progress.\n",
            "\n",
            "The G35 looks like it may have a winning chassis, but the interior, though clean looking seems to be styled about 10 years ago, lots of square shapes and flat surfaces. Another great engine, waiting to drive this one.\n",
            "\n",
            "Don't really care much for the X-Type. If I were a Jaguar man I'd be truly pissed at Ford and Jaguar for this one. They are actually selling a fwd X-Type in England and I've read where they're thinking about selling it here! Hell no. The car should have been rwd not awd. Some will tell you that this was done to compete with Audi. Thats BS, awd was the only way to keep the car from being fwd, WITHOUT spending the money to convert the car to rwd. It is a good looking car though and that Jaguar \"leaper\" will be enough for some, but this car has to grow on me.\n",
            "\n",
            "The Chrysler 300M is about as close to an Audi that American cars come. This new 300M \"Special\" is truly a good looking car inside and out. One problem: Where is the performance???? A 255hp car *in this class) with a 0-60 time over 8 seconds is not accpetable. Something is not right here. Some say engine, transmission and/or gearing, but whatever it is, Chrysler needs to let some MB engineers have a look at this car. The heavier E320 with less power is faster. I still like this car, but it's no lust object once you get past the great styling.\n",
            "\n",
            "M\n"
          ]
        }
      ],
      "source": [
        "#finding user_message, user_id and time_elements using relative xpath\n",
        "\n",
        "user_id = wd.find_element(by=By.XPATH,value='//*[@id=\"Comment_1726631\"]/div/div[2]/div[1]/span[1]/a[2]')\n",
        "\n",
        "user_name=user_id.text\n",
        "\n",
        "print(user_name)\n",
        "\n",
        "\n",
        "time_element=wd.find_element(by=By.XPATH,value='//*[@id=\"Comment_1726631\"]/div/div[2]/div[2]/span/a/time')\n",
        "\n",
        "date=time_element.text\n",
        "\n",
        "print(date)\n",
        "\n",
        "user_message = wd.find_element(by=By.XPATH,value='//*[@id=\"Comment_1726631\"]/div/div[3]/div/div[1]')\n",
        "\n",
        "comment=user_message.text\n",
        "print(comment)\n"
      ]
    },
    {
      "cell_type": "code",
      "execution_count": 11,
      "metadata": {
        "colab": {
          "base_uri": "https://localhost:8080/"
        },
        "id": "aCCELUYe8w9_",
        "outputId": "f0df668a-d961-4fce-a928-6224911df22f"
      },
      "outputs": [
        {
          "name": "stdout",
          "output_type": "stream",
          "text": [
            "{'fredvh', 'riez', 'shipo', 'mvargo1', 'popovs', 'steffie2jc', 'hungrywhale', 'jagboyxkr', 'dave330i', 'cybersol', 'merc1', 'wishnhigh1', 'blueguydotcom', '1pierce', 'kdshapiro', 'beartrax79', 'coolguyky7', 'mbarto'}\n",
            "18\n"
          ]
        }
      ],
      "source": [
        "#finding userids based on tags and substrings\n",
        "hrefs=wd.find_elements(by=By.TAG_NAME, value=\"a\")\n",
        "substring=\"profile\"\n",
        "my_set=set()\n",
        "\n",
        "for link in hrefs:\n",
        "  full_link=link.get_attribute(\"href\")\n",
        "  if full_link:\n",
        "    if substring in full_link:\n",
        "      my_set.add(full_link[35:])\n",
        "\n",
        "print(my_set)\n",
        "print(len(my_set))"
      ]
    },
    {
      "cell_type": "code",
      "execution_count": 13,
      "metadata": {
        "colab": {
          "base_uri": "https://localhost:8080/"
        },
        "id": "Ta8EMlvTBtse",
        "outputId": "39d5f5fc-b61d-4815-9633-0ff538c7a7e6"
      },
      "outputs": [
        {
          "name": "stdout",
          "output_type": "stream",
          "text": [
            "cybersol\n",
            "Entry level performance luxury sedans are a hot area for car manufacturers and enthusiasts alike. These sedans show their performance by being fun to drive and handling well. They show luxury by offering leather and some of the important creatures comforts found in the most luxurious upscale sedans. The selection of vehicles that compete in the space is vast and varied.\n",
            "\n",
            "The benchmarks which define this are the BMW 330 and the Audi A4 3.0. But there are many contenders, such as Acura TL-S, Chrysler 300M, Jaguar X-type, Infiniti I35, Mercedes C-Class, Volvo S60 T5. Some companies have contenders that emphasize performance Lexus IS300 or luxury Lexus ES300. And the field is continously growing, with the recent additions being the Cadillac CTS and Infiniti G35.\n",
            "\n",
            "The common charateristics of this entry level perfomance luxury group seem to a price around 30 to 40k (US dollars) and 0-60 times between six and eight seconds.\n",
            "\n",
            "With this wide variety of cars targeted at a similar market segment, the choices for our own personal car are great. But with all these choices, it is hard to understand and personally evaluate all these options. So this topic has been created to start a discussion on the relative merits and personalities of the cars available in this entry level performance luxury field.\n",
            "Tagged: Sedans Buying & Selling Comparisons General\n",
            "March 2002\n"
          ]
        }
      ],
      "source": [
        "#finding elements using class names\n",
        "\n",
        "id=wd.find_elements(by=By.CLASS_NAME,value=\"Author\")\n",
        "\n",
        "#for item in id:\n",
        "  #print(item.text)\n",
        "\n",
        "print(id[0].text)\n",
        "\n",
        "comment = wd.find_elements(by=By.CLASS_NAME,value=\"Item-Body\")\n",
        "\n",
        "print(comment[0].text)\n",
        "\n",
        "time = wd.find_elements(by=By.TAG_NAME,value=\"time\") #class names didn't work well for extracting the date feature, so used tag names.\n",
        "\n",
        "print(time[0].text)\n"
      ]
    },
    {
      "cell_type": "code",
      "execution_count": 14,
      "metadata": {
        "colab": {
          "base_uri": "https://localhost:8080/",
          "height": 34
        },
        "id": "x4pqBWp7Ecgl",
        "outputId": "7eca258e-5b1d-435e-c561-5c9619d913ec"
      },
      "outputs": [
        {
          "name": "stdout",
          "output_type": "stream",
          "text": [
            "sample_data  test_data.csv\n"
          ]
        },
        {
          "data": {
            "application/javascript": "\n    async function download(id, filename, size) {\n      if (!google.colab.kernel.accessAllowed) {\n        return;\n      }\n      const div = document.createElement('div');\n      const label = document.createElement('label');\n      label.textContent = `Downloading \"${filename}\": `;\n      div.appendChild(label);\n      const progress = document.createElement('progress');\n      progress.max = size;\n      div.appendChild(progress);\n      document.body.appendChild(div);\n\n      const buffers = [];\n      let downloaded = 0;\n\n      const channel = await google.colab.kernel.comms.open(id);\n      // Send a message to notify the kernel that we're ready.\n      channel.send({})\n\n      for await (const message of channel.messages) {\n        // Send a message to notify the kernel that we're ready.\n        channel.send({})\n        if (message.buffers) {\n          for (const buffer of message.buffers) {\n            buffers.push(buffer);\n            downloaded += buffer.byteLength;\n            progress.value = downloaded;\n          }\n        }\n      }\n      const blob = new Blob(buffers, {type: 'application/binary'});\n      const a = document.createElement('a');\n      a.href = window.URL.createObjectURL(blob);\n      a.download = filename;\n      div.appendChild(a);\n      a.click();\n      div.remove();\n    }\n  ",
            "text/plain": [
              "<IPython.core.display.Javascript object>"
            ]
          },
          "metadata": {},
          "output_type": "display_data"
        },
        {
          "data": {
            "application/javascript": "download(\"download_46a70531-bf09-496d-bb04-2af3ad462949\", \"test_data.csv\", 31696)",
            "text/plain": [
              "<IPython.core.display.Javascript object>"
            ]
          },
          "metadata": {},
          "output_type": "display_data"
        }
      ],
      "source": [
        "#extracting multiple informations from a webpage\n",
        "\n",
        "import pandas as pd\n",
        "\n",
        "elements=wd.find_elements(by=By.CLASS_NAME,value=\"Comment\")\n",
        "user_ids=[]\n",
        "date=[]\n",
        "comment=[]\n",
        "\n",
        "for element in elements:\n",
        "  user_ids.append((element.find_element(by=By.CLASS_NAME,value=\"Author\")).text)\n",
        "  date.append((element.find_element(by=By.TAG_NAME,value=\"time\")).text)\n",
        "  comment.append((element.find_element(by=By.CLASS_NAME,value=\"Item-Body\")).text)\n",
        "\n",
        "\n",
        "df=pd.DataFrame({\"User_ID\":user_ids,\"Date\":date,\"Comment\":comment})\n",
        "\n",
        "\n",
        "#df.to_csv(\"test_data.csv\")\n",
        "#!ls\n",
        "#from google.colab import files\n",
        "#files.download(\"test_data.csv\")\n"
      ]
    },
    {
      "cell_type": "code",
      "execution_count": 24,
      "metadata": {
        "colab": {
          "base_uri": "https://localhost:8080/"
        },
        "id": "8W-M4Wjpvfme",
        "outputId": "4cc01ab4-6fd8-40fa-acbf-663e31d2c74e"
      },
      "outputs": [
        {
          "name": "stdout",
          "output_type": "stream",
          "text": [
            "Edmunds Price Checker\n",
            "Edmunds Lease Calculator\n",
            "Did you get a good deal? Be sure to come back and let us know! Post a pic of your new purchase or lease!\n",
            "\n",
            "\n",
            "MODERATOR\n",
            "\n",
            "2015 Subaru Outback 3.6R / 2014 MINI Countryman S ALL4\n"
          ]
        }
      ],
      "source": [
        "#extracting the signature information using tag names and looking at the non-empty values (just for reference purposes)\n",
        "\n",
        "dr=webdriver.Chrome(options=chrome_options)\n",
        "url = 'https://forums.edmunds.com/discussion/2864/general/x/entry-level-luxury-performance-sedans/p435'\n",
        "dr.get(url)\n",
        "cars_owned=dr.find_elements(by=By.TAG_NAME,value=\"p\")\n",
        "valid_signs=[]\n",
        "for item in cars_owned:\n",
        "  text=item.text\n",
        "  if text:\n",
        "    valid_signs.append(text)\n",
        "\n",
        "print(valid_signs[0])\n"
      ]
    },
    {
      "cell_type": "code",
      "execution_count": 27,
      "metadata": {
        "id": "pwW0i4eTKOFZ"
      },
      "outputs": [],
      "source": [
        "import pandas as pd\n",
        "from selenium.webdriver.remote.webdriver import WebDriver\n",
        "#extracting information from multiple webpages\n",
        "driver=webdriver.Chrome(options=chrome_options)\n",
        "\n",
        "url = 'https://forums.edmunds.com/discussion/2864/general/x/entry-level-luxury-performance-sedans'\n",
        "\n",
        "user_id=[]\n",
        "date=[]\n",
        "comment=[]\n",
        "\n",
        "for i in range(315,436):\n",
        "  url_next=url+\"/p\"+str(i)\n",
        "  driver.get(url_next)\n",
        "  elements=driver.find_elements(by=By.CLASS_NAME,value=\"Comment\")\n",
        "  for element in elements:\n",
        "    user_id.append((element.find_element(by=By.CLASS_NAME,value=\"Author\")).text)\n",
        "    date.append((element.find_element(by=By.TAG_NAME,value=\"time\")).text)\n",
        "    comment.append((element.find_element(by=By.CLASS_NAME,value=\"Item-Body\")).text)\n",
        "\n",
        "df2 = pd.DataFrame({\"User_ID\":user_id,\n",
        "                    \"Date\":date,\n",
        "                    \"Comment\":comment\n",
        "                    })\n"
      ]
    },
    {
      "cell_type": "code",
      "execution_count": 29,
      "metadata": {
        "colab": {
          "base_uri": "https://localhost:8080/",
          "height": 34
        },
        "id": "mcxLIFW3rQQ9",
        "outputId": "fa9c1957-16c1-4568-9994-97207776226a"
      },
      "outputs": [
        {
          "name": "stdout",
          "output_type": "stream",
          "text": [
            "final_data.csv\tsample_data  test_data.csv\n"
          ]
        },
        {
          "data": {
            "application/javascript": "\n    async function download(id, filename, size) {\n      if (!google.colab.kernel.accessAllowed) {\n        return;\n      }\n      const div = document.createElement('div');\n      const label = document.createElement('label');\n      label.textContent = `Downloading \"${filename}\": `;\n      div.appendChild(label);\n      const progress = document.createElement('progress');\n      progress.max = size;\n      div.appendChild(progress);\n      document.body.appendChild(div);\n\n      const buffers = [];\n      let downloaded = 0;\n\n      const channel = await google.colab.kernel.comms.open(id);\n      // Send a message to notify the kernel that we're ready.\n      channel.send({})\n\n      for await (const message of channel.messages) {\n        // Send a message to notify the kernel that we're ready.\n        channel.send({})\n        if (message.buffers) {\n          for (const buffer of message.buffers) {\n            buffers.push(buffer);\n            downloaded += buffer.byteLength;\n            progress.value = downloaded;\n          }\n        }\n      }\n      const blob = new Blob(buffers, {type: 'application/binary'});\n      const a = document.createElement('a');\n      a.href = window.URL.createObjectURL(blob);\n      a.download = filename;\n      div.appendChild(a);\n      a.click();\n      div.remove();\n    }\n  ",
            "text/plain": [
              "<IPython.core.display.Javascript object>"
            ]
          },
          "metadata": {},
          "output_type": "display_data"
        },
        {
          "data": {
            "application/javascript": "download(\"download_a3d4d34c-772c-44cb-81b4-da4e941afe0a\", \"final_data.csv\", 4191385)",
            "text/plain": [
              "<IPython.core.display.Javascript object>"
            ]
          },
          "metadata": {},
          "output_type": "display_data"
        }
      ],
      "source": [
        "df2.to_csv(\"final_data.csv\")\n",
        "!ls\n",
        "from google.colab import files\n",
        "files.download(\"final_data.csv\")"
      ]
    }
  ],
  "metadata": {
    "accelerator": "GPU",
    "colab": {
      "gpuType": "T4",
      "provenance": []
    },
    "kernelspec": {
      "display_name": "Python 3",
      "name": "python3"
    },
    "language_info": {
      "name": "python"
    }
  },
  "nbformat": 4,
  "nbformat_minor": 0
}
